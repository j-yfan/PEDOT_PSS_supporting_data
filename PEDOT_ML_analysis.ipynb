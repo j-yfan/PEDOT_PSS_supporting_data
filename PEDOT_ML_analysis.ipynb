{
  "cells": [
    {
      "cell_type": "markdown",
      "id": "0d45c62b",
      "metadata": {
        "id": "0d45c62b"
      },
      "source": [
        "# Data analysis for the paper: Autonomous Platform for Solution Processing of Electronic Polymers"
      ]
    },
    {
      "cell_type": "markdown",
      "id": "35697997",
      "metadata": {
        "id": "35697997"
      },
      "source": [
        "## Install and import required packages"
      ]
    },
    {
      "cell_type": "code",
      "execution_count": null,
      "id": "ee34795b",
      "metadata": {
        "id": "ee34795b"
      },
      "outputs": [],
      "source": [
        "!pip install shap\n",
        "!pip install umap-learn\n",
        "!pip install cmasher\n",
        "!pip install scikit-learn\n",
        "!pip install plotly"
      ]
    },
    {
      "cell_type": "code",
      "execution_count": null,
      "id": "mAhCTKpxIg2J",
      "metadata": {
        "id": "mAhCTKpxIg2J"
      },
      "outputs": [],
      "source": [
        "# If you want to use the auto-sklearn functionality in colab then run this code and then restart runtime\n",
        "!pip install Cython==0.29.36\n",
        "!pip uninstall scipy -y\n",
        "!pip install scipy==1.9\n",
        "!pip uninstall pyparsing -y\n",
        "!pip install pyparsing==2.4\n",
        "!pip uninstall scikit_learn -y\n",
        "!pip uninstall imbalanced-learn -y\n",
        "!pip uninstall mlxtend -y\n",
        "!pip uninstall yellowbrick -y\n",
        "!pip install scikit-learn==0.24.2 --no-build-isolation\n",
        "!pip install auto-sklearn"
      ]
    },
    {
      "cell_type": "code",
      "execution_count": 4,
      "id": "4234564f",
      "metadata": {
        "id": "4234564f"
      },
      "outputs": [],
      "source": [
        "import itertools\n",
        "import pickle\n",
        "import re\n",
        "import matplotlib as mpl\n",
        "import matplotlib.font_manager\n",
        "import matplotlib.patches as patches\n",
        "import matplotlib.pyplot as plt\n",
        "import numpy as np\n",
        "import pandas as pd\n",
        "import plotly.figure_factory as ff\n",
        "import shap\n",
        "import sklearn\n",
        "import umap\n",
        "from matplotlib.collections import LineCollection\n",
        "from matplotlib.path import Path\n",
        "from mpl_toolkits.axes_grid1 import make_axes_locatable\n",
        "from scipy import stats\n",
        "from scipy.stats import gaussian_kde\n",
        "from sklearn.ensemble import RandomForestRegressor\n",
        "from sklearn.linear_model import LinearRegression\n",
        "from sklearn.metrics import r2_score\n",
        "from sklearn.model_selection import train_test_split\n",
        "from sklearn.neighbors import KNeighborsRegressor\n",
        "from sklearn.pipeline import Pipeline\n",
        "from sklearn.preprocessing import MinMaxScaler, StandardScaler\n",
        "from sklearn.svm import SVR\n",
        "import autosklearn.regression\n",
        "%matplotlib inline"
      ]
    },
    {
      "cell_type": "markdown",
      "id": "7ebc5e46",
      "metadata": {
        "id": "7ebc5e46"
      },
      "source": [
        "## Import experimental data"
      ]
    },
    {
      "cell_type": "code",
      "execution_count": null,
      "id": "87fc4b29",
      "metadata": {
        "colab": {
          "base_uri": "https://localhost:8080/",
          "height": 513
        },
        "id": "87fc4b29",
        "outputId": "ab4146e5-bb14-439a-e374-4e3530dbeb73"
      },
      "outputs": [],
      "source": [
        "pedot_data = pd.read_csv('PEDOT_experiment.csv')\n",
        "pedot_data"
      ]
    },
    {
      "cell_type": "code",
      "execution_count": 6,
      "id": "065b87be",
      "metadata": {
        "id": "065b87be"
      },
      "outputs": [],
      "source": [
        "pedot_training_data = pedot_data[pedot_data['Dataset'] == 'Train']\n",
        "pedot_test_data = pedot_data[pedot_data['Dataset'] == 'Test']\n",
        "\n",
        "pedot_param_keys = [\n",
        "    'DMSO concentration (Vol%)',\n",
        "    'EG concentration (Vol%)',\n",
        "    'Coating speed (mm/sec)',\n",
        "    'Coating temperature (Celsius)',\n",
        "    'Post-processing solvent No.',\n",
        "    'Post coating speed (mm/sec)',\n",
        "    'Post coating temperature (Celsius)',\n",
        "]\n",
        "\n",
        "pedot_output_keys = [\n",
        "        \"Average coverage (%)\",\n",
        "        \"Average conductivity (S/cm)\",\n",
        "]"
      ]
    },
    {
      "cell_type": "markdown",
      "id": "ce2624d2",
      "metadata": {
        "id": "ce2624d2",
        "lines_to_next_cell": 2
      },
      "source": [
        "## simulate the experimental surface: Supporting Information Section 5 + Figure 4d"
      ]
    },
    {
      "cell_type": "code",
      "execution_count": 7,
      "id": "04ea250b",
      "metadata": {
        "id": "04ea250b"
      },
      "outputs": [],
      "source": [
        "def load_figure_params():\n",
        "    plt.rcParams['axes.facecolor'] = 'white'\n",
        "    plt.style.use('default')\n",
        "    plt.rcParams[\"font.weight\"] = \"normal\"\n",
        "    plt.rcParams[\"axes.labelweight\"] = \"normal\"\n",
        "    plt.rcParams[\"axes.labelsize\"] = \"medium\"\n",
        "    plt.rcParams[\"axes.labelweight\"] = \"normal\"\n",
        "    plt.rcParams[\"xtick.labelsize\"] = \"medium\"\n",
        "    plt.rcParams[\"ytick.labelsize\"] = \"medium\"\n",
        "    plt.rcParams['axes.facecolor'] = 'white'\n",
        "    plt.rcParams['axes.grid'] = False\n",
        "    fig, ax = plt.subplots(figsize=(8, 5))\n",
        "    plt.rcParams[\"axes.edgecolor\"] = \"0.15\"\n",
        "    plt.rcParams[\"axes.linewidth\"] = 1.25\n",
        "    plt.grid(False)\n",
        "    plt.rcParams['axes.spines.top'] = True\n",
        "    plt.rcParams['axes.spines.bottom'] = True\n",
        "    plt.rcParams['axes.spines.left'] = True\n",
        "    plt.rcParams['axes.spines.right'] = True\n",
        "    ax.tick_params(axis='both', which='both', width=2)\n",
        "    ax.tick_params(axis='both', which='major', length=12)\n",
        "    ax.tick_params(axis='both', which='minor', length=6, color='black')\n",
        "    ax.tick_params(\n",
        "        axis='both',\n",
        "        which='both',\n",
        "        bottom=True,\n",
        "        top=True,\n",
        "        left=True,\n",
        "        right=True,\n",
        "        direction=\"in\",\n",
        "    )\n",
        "\n",
        "    plt.xticks(fontsize=16)\n",
        "    plt.yticks(fontsize=16)\n",
        "    return plt"
      ]
    },
    {
      "cell_type": "markdown",
      "id": "694158f0",
      "metadata": {
        "id": "694158f0"
      },
      "source": [
        "### Train only"
      ]
    },
    {
      "cell_type": "code",
      "execution_count": 8,
      "id": "df38cedb",
      "metadata": {
        "id": "df38cedb"
      },
      "outputs": [],
      "source": [
        "# Scalling the datasets\n",
        "scaler = StandardScaler()\n",
        "pedot_params = pedot_training_data[pedot_param_keys]\n",
        "experimenal_space_scaled = scaler.fit_transform(pedot_params.values)\n",
        "experimenal_space_scaled = pd.DataFrame(experimenal_space_scaled, columns=pedot_params.columns)"
      ]
    },
    {
      "cell_type": "code",
      "execution_count": 9,
      "id": "bac983e8",
      "metadata": {
        "colab": {
          "base_uri": "https://localhost:8080/",
          "height": 490
        },
        "id": "bac983e8",
        "outputId": "ecf12d4d-f19d-4ab5-809e-d655cf047320"
      },
      "outputs": [
        {
          "data": {
            "text/plain": [
              "<matplotlib.legend.Legend at 0x7e1967749de0>"
            ]
          },
          "execution_count": 9,
          "metadata": {},
          "output_type": "execute_result"
        },
        {
          "data": {
            "image/png": "[encoded data removed]",
            "text/plain": [
              "<Figure size 800x500 with 1 Axes>"
            ]
          },
          "metadata": {},
          "output_type": "display_data"
        }
      ],
      "source": [
        "plt = load_figure_params()\n",
        "plt.xlabel('Coverage', fontsize=16)\n",
        "plt.ylabel('Frequency', fontsize=16)\n",
        "plt.hist(\n",
        "    pedot_training_data['Average coverage (%)'], alpha=0.4, edgecolor='b', label='Avg'\n",
        ")\n",
        "plt.legend(\n",
        "    prop={'size': 16}, facecolor='white', edgecolor='black', framealpha=1\n",
        ")"
      ]
    },
    {
      "cell_type": "code",
      "execution_count": 10,
      "id": "ba6f76c2",
      "metadata": {
        "colab": {
          "base_uri": "https://localhost:8080/",
          "height": 490
        },
        "id": "ba6f76c2",
        "outputId": "8b51c5e3-61f9-4be7-f81b-b898ffe8ec6a"
      },
      "outputs": [
        {
          "data": {
            "text/plain": [
              "<matplotlib.legend.Legend at 0x7e1967657940>"
            ]
          },
          "execution_count": 10,
          "metadata": {},
          "output_type": "execute_result"
        },
        {
          "data": {
            "image/png": "[encoded data removed]",
            "text/plain": [
              "<Figure size 800x500 with 1 Axes>"
            ]
          },
          "metadata": {},
          "output_type": "display_data"
        }
      ],
      "source": [
        "plt = load_figure_params()\n",
        "plt.xlabel('Conductivity', fontsize=16)\n",
        "plt.ylabel('Frequency', fontsize=16)\n",
        "plt.hist(\n",
        "    pedot_training_data['Average conductivity (S/cm)'],\n",
        "    alpha=0.4,\n",
        "    edgecolor='b',\n",
        "    label='Avg',\n",
        ")\n",
        "plt.legend(\n",
        "    prop={'size': 16}, facecolor='white', edgecolor='black', framealpha=1\n",
        ")\n",
        "# plt.savefig('conductivity.png', dpi=600)"
      ]
    },
    {
      "cell_type": "code",
      "execution_count": 20,
      "id": "31139547",
      "metadata": {
        "colab": {
          "base_uri": "https://localhost:8080/"
        },
        "id": "31139547",
        "outputId": "7e3513ca-709c-4676-95bb-c40636465d63"
      },
      "outputs": [
        {
          "name": "stdout",
          "output_type": "stream",
          "text": [
            "hist, bin_edges [18  2  3  2  3  2] [3.55859460e-02 1.92193959e+02 3.84352332e+02 5.76510705e+02\n",
            " 7.68669079e+02 9.60827452e+02 1.15298582e+03]\n"
          ]
        }
      ],
      "source": [
        "# Define the bin split for better splitting\n",
        "hist, bin_edges = np.histogram(\n",
        "    pedot_training_data['Average conductivity (S/cm)'], bins='auto'\n",
        ")\n",
        "print('hist, bin_edges', hist, bin_edges)\n",
        "\n",
        "\n",
        "def map_float_to_class(number):\n",
        "    if bin_edges[0] <= number < bin_edges[1] / 4:\n",
        "        return 0\n",
        "    elif bin_edges[1] / 4 <= number:\n",
        "        return 1"
      ]
    },
    {
      "cell_type": "markdown",
      "id": "bb2dc790",
      "metadata": {
        "id": "bb2dc790"
      },
      "source": [
        "Conductivity investigation on train data"
      ]
    },
    {
      "cell_type": "code",
      "execution_count": 22,
      "id": "745dec07",
      "metadata": {
        "colab": {
          "base_uri": "https://localhost:8080/"
        },
        "id": "745dec07",
        "outputId": "87dd5de9-5c1e-4bd7-a6d8-4c23e5cc6fe3"
      },
      "outputs": [
        {
          "name": "stdout",
          "output_type": "stream",
          "text": [
            "LR - Test Set R-squared: -0.4177821395404615\n",
            "KNN - Test Set R-squared: -0.011320635224600029\n",
            "SVR - Test Set R-squared: -0.44649701341482917\n",
            "Random Forest - Test Set R-squared: -0.8280621285288845\n"
          ]
        }
      ],
      "source": [
        "# Compare models on conductivity prediction on the train data\n",
        "\n",
        "models = []\n",
        "models.append(('LR', LinearRegression()))\n",
        "models.append(('KNN', KNeighborsRegressor(n_neighbors=5)))\n",
        "models.append(('SVR', SVR(kernel=\"rbf\", C=10, gamma=\"auto\", epsilon=0.1)))\n",
        "models.append(\n",
        "    ('Random Forest', RandomForestRegressor(max_depth=8, random_state=1))\n",
        ")\n",
        "\n",
        "results = []\n",
        "names = []\n",
        "\n",
        "X, y = (\n",
        "    experimenal_space_scaled.iloc[:, :],\n",
        "    pedot_training_data[['Average conductivity (S/cm)']],\n",
        ")\n",
        "# Split the data into a training set and a test set\n",
        "X_train, X_test, y_train, y_test = train_test_split(\n",
        "    X,\n",
        "    y,\n",
        "    test_size=0.2,\n",
        "    random_state=1,\n",
        "    stratify=[\n",
        "        map_float_to_class(y) for y in pedot_training_data['Average conductivity (S/cm)']\n",
        "    ],\n",
        ")\n",
        "\n",
        "# Make predictions on the test dataset\n",
        "for name, model in models:\n",
        "    pipeline = Pipeline([('model', model)])\n",
        "    pipeline.fit(X_train, y_train.values.ravel())\n",
        "    y_pred = pipeline.predict(X_test)\n",
        "    score = r2_score(y_test, y_pred)\n",
        "    print(f\"{name} - Test Set R-squared: {score}\")"
      ]
    },
    {
      "cell_type": "code",
      "execution_count": 23,
      "id": "5ab13be4",
      "metadata": {
        "colab": {
          "base_uri": "https://localhost:8080/"
        },
        "id": "5ab13be4",
        "outputId": "887a2c46-9778-4a27-b1f9-26b1a6098b3c"
      },
      "outputs": [
        {
          "name": "stdout",
          "output_type": "stream",
          "text": [
            "R2 score: -5.320168640334933\n"
          ]
        }
      ],
      "source": [
        "# Initialize the Auto-sklearn regressor\n",
        "automl = autosklearn.regression.AutoSklearnRegressor(\n",
        "    time_left_for_this_task=5 * 60,  # Run for 120 seconds\n",
        "    per_run_time_limit=60,  # Spend a maximum of 30 seconds for each model\n",
        "    n_jobs=-1,  # Use all available cores\n",
        ")\n",
        "\n",
        "# Train the model\n",
        "automl.fit(X_train, y_train)\n",
        "# Train the model\n",
        "automl.refit(X_train, y_train)\n",
        "\n",
        "y_pred = automl.predict(X_test)\n",
        "print(\"R2 score:\", r2_score(y_test, y_pred))"
      ]
    },
    {
      "cell_type": "markdown",
      "id": "1c4fbcb4",
      "metadata": {
        "id": "1c4fbcb4"
      },
      "source": [
        "Coverage investigation on train data"
      ]
    },
    {
      "cell_type": "code",
      "execution_count": 44,
      "id": "09495e6d",
      "metadata": {
        "colab": {
          "base_uri": "https://localhost:8080/"
        },
        "id": "09495e6d",
        "lines_to_next_cell": 2,
        "outputId": "2cd94039-c8a2-4d0a-e220-15addc63f743"
      },
      "outputs": [
        {
          "name": "stdout",
          "output_type": "stream",
          "text": [
            "LR - Test Set R-squared: 0.5971103705767622\n",
            "KNN - Test Set R-squared: 0.7024091393257164\n",
            "SVR - Test Set R-squared: 0.5617059675977755\n",
            "Random Forest - Test Set R-squared: 0.7601196458041666\n"
          ]
        }
      ],
      "source": [
        "X, y = (\n",
        "    experimenal_space_scaled.iloc[:, :-3],\n",
        "    pedot_training_data[['Average coverage (%)']],\n",
        ")\n",
        "X_train, X_test, y_train, y_test = train_test_split(\n",
        "    X,\n",
        "    y,\n",
        "    test_size=0.2,\n",
        "    random_state=1,\n",
        "    stratify=[\n",
        "        map_float_to_class(y) for y in pedot_training_data['Average conductivity (S/cm)']\n",
        "    ],\n",
        ")\n",
        "\n",
        "# Prepare models\n",
        "models = []\n",
        "models.append(('LR', LinearRegression()))\n",
        "models.append(('KNN', KNeighborsRegressor(n_neighbors=5)))\n",
        "models.append(('SVR', SVR(kernel=\"rbf\", C=100, gamma=\"auto\", epsilon=0.1)))\n",
        "models.append(\n",
        "    ('Random Forest', RandomForestRegressor(max_depth=8, random_state=1))\n",
        ")\n",
        "\n",
        "# Evaluate each model in turn using LOCO\n",
        "results = []\n",
        "names = []\n",
        "\n",
        "# Make predictions on the test dataset\n",
        "for name, model in models:\n",
        "    pipeline = Pipeline([('model', model)])\n",
        "    pipeline.fit(X_train, y_train.values.ravel())\n",
        "    y_pred = pipeline.predict(X_test)\n",
        "    score = r2_score(y_test, y_pred)\n",
        "    print(f\"{name} - Test Set R-squared: {score}\")"
      ]
    },
    {
      "cell_type": "code",
      "execution_count": 45,
      "id": "242457e5",
      "metadata": {
        "colab": {
          "base_uri": "https://localhost:8080/"
        },
        "id": "242457e5",
        "outputId": "8093867f-c307-464e-b0dd-2d704040f933"
      },
      "outputs": [
        {
          "name": "stdout",
          "output_type": "stream",
          "text": [
            "R2 score: 0.7553702645196148\n"
          ]
        }
      ],
      "source": [
        "# Initialize the Auto-sklearn regressor\n",
        "automl = autosklearn.regression.AutoSklearnRegressor(\n",
        "    time_left_for_this_task=2 * 60,  # Run for 120 seconds\n",
        "    per_run_time_limit=60,  # Spend a maximum of 30 seconds for each model\n",
        "    n_jobs=-1,  # Use all available cores\n",
        ")\n",
        "\n",
        "# Train the model\n",
        "automl.fit(X_train, y_train)\n",
        "\n",
        "# Evaluate\n",
        "y_pred = automl.predict(X_test)\n",
        "print(\"R2 score:\", r2_score(y_test, y_pred))"
      ]
    },
    {
      "cell_type": "code",
      "execution_count": 33,
      "id": "d2aea435",
      "metadata": {
        "colab": {
          "base_uri": "https://localhost:8080/"
        },
        "id": "d2aea435",
        "outputId": "4237601d-5b6a-4a60-87ca-13ad45f9d3e7"
      },
      "outputs": [
        {
          "name": "stdout",
          "output_type": "stream",
          "text": [
            "R2 score (train): 0.89\n",
            "R2 score (test): 0.76\n"
          ]
        },
        {
          "name": "stderr",
          "output_type": "stream",
          "text": [
            "A column-vector y was passed when a 1d array was expected. Please change the shape of y to (n_samples,), for example using ravel().\n"
          ]
        }
      ],
      "source": [
        "rf_coverage_reg = RandomForestRegressor(max_depth=8, random_state=1)\n",
        "rf_coverage_reg.fit(X_train, y_train)\n",
        "y_pred_train = rf_coverage_reg.predict(X_train)\n",
        "y_pred = rf_coverage_reg.predict(X_test)\n",
        "print('R2 score (train): {:.2f}'.format(r2_score(y_train, y_pred_train)))\n",
        "print('R2 score (test): {:.2f}'.format(r2_score(y_test, y_pred)))"
      ]
    },
    {
      "cell_type": "code",
      "execution_count": 34,
      "id": "cd598493",
      "metadata": {
        "colab": {
          "base_uri": "https://localhost:8080/",
          "height": 348,
          "referenced_widgets": [
            "dcafedb311ca4f079daae100b974b1b3",
            "4ccf3aa737064e4b9cd7b4bd99c1c5b7",
            "540f7747cd664e9186c134c1728bd314",
            "c314f044fb264327bf08dac815d0f026",
            "0b3eb99a7cd4455d973c85bd86f9ea6e",
            "adbbbe776ee54273a3ba1de04fe71e04",
            "5d5da7315888497b95de31521baa487f",
            "45700259f523441daa34336827d2b254",
            "2876dd863170414faa6f41fbf3bea723",
            "7d6e22bb28dd4c6bbb3f65f666569226",
            "19f2bf0bac4f466584aed8bd9edaea96"
          ]
        },
        "id": "cd598493",
        "outputId": "1e23810e-3656-408c-a387-d864d2b856c5"
      },
      "outputs": [
        {
          "data": {
            "application/vnd.jupyter.widget-view+json": {
              "model_id": "dcafedb311ca4f079daae100b974b1b3",
              "version_major": 2,
              "version_minor": 0
            },
            "text/plain": [
              "  0%|          | 0/30 [00:00<?, ?it/s]"
            ]
          },
          "metadata": {},
          "output_type": "display_data"
        },
        {
          "data": {
            "image/png": "[encoded data removed]",
            "text/plain": [
              "<Figure size 800x310 with 2 Axes>"
            ]
          },
          "metadata": {},
          "output_type": "display_data"
        }
      ],
      "source": [
        "\n",
        "explainer = shap.KernelExplainer(\n",
        "    model=rf_coverage_reg.predict, data=X\n",
        ")  # , link = \"identity\")\n",
        "shap_values = explainer.shap_values(X)\n",
        "\n",
        "shap.summary_plot(\n",
        "    shap_values=shap_values,\n",
        "    features=X,\n",
        "    cmap='viridis',\n",
        "    feature_names=[\n",
        "        'DMSO v%',\n",
        "        'EG v%',\n",
        "        'Coating velocity',\n",
        "        'Coating temperature',\n",
        "    ],  #\n",
        ")\n",
        "# plt.savefig(\"shap_summary1_actual.png\") #,dpi=700)"
      ]
    },
    {
      "cell_type": "markdown",
      "id": "953cf4e4",
      "metadata": {
        "id": "953cf4e4"
      },
      "source": [
        "### All data (Train and test) + shapley plots"
      ]
    },
    {
      "cell_type": "code",
      "execution_count": 46,
      "id": "ad76bd33",
      "metadata": {
        "id": "ad76bd33"
      },
      "outputs": [],
      "source": [
        "# Scalling the datasets\n",
        "pedot_params = pedot_data[pedot_param_keys]\n",
        "scaler = StandardScaler()\n",
        "experimenal_space_scaled = scaler.fit_transform(pedot_params.values)\n",
        "experimenal_space_scaled = pd.DataFrame(\n",
        "    experimenal_space_scaled, columns=pedot_params.columns.values\n",
        ")"
      ]
    },
    {
      "cell_type": "code",
      "execution_count": 47,
      "id": "06eab693",
      "metadata": {
        "colab": {
          "base_uri": "https://localhost:8080/",
          "height": 464
        },
        "id": "06eab693",
        "outputId": "150659b9-9cba-411d-e03a-75fa61751cd8"
      },
      "outputs": [
        {
          "data": {
            "text/plain": [
              "<matplotlib.legend.Legend at 0x7e195374c1f0>"
            ]
          },
          "execution_count": 47,
          "metadata": {},
          "output_type": "execute_result"
        },
        {
          "data": {
            "image/png": "[encoded data removed]",
            "text/plain": [
              "<Figure size 800x500 with 1 Axes>"
            ]
          },
          "metadata": {},
          "output_type": "display_data"
        }
      ],
      "source": [
        "load_figure_params()\n",
        "plt.hist(\n",
        "    pedot_data['Average coverage (%)'], alpha=0.4, edgecolor='b', label='Avg'\n",
        ")\n",
        "plt.legend(\n",
        "    prop={'size': 16}, facecolor='white', edgecolor='black', framealpha=1\n",
        ")\n",
        "# plt.savefig('coverage.png', dpi=600)"
      ]
    },
    {
      "cell_type": "code",
      "execution_count": 48,
      "id": "74cb7bc5",
      "metadata": {
        "colab": {
          "base_uri": "https://localhost:8080/"
        },
        "id": "74cb7bc5",
        "outputId": "1817f707-b505-41ba-eedb-abce213f4621"
      },
      "outputs": [
        {
          "data": {
            "text/plain": [
              "(array([24, 19, 20, 11,  1]),\n",
              " array([3.55859460e-02, 3.97762980e+02, 7.95490375e+02, 1.19321777e+03,\n",
              "        1.59094516e+03, 1.98867256e+03]))"
            ]
          },
          "execution_count": 48,
          "metadata": {},
          "output_type": "execute_result"
        }
      ],
      "source": [
        "hist, bin_edges = np.histogram(\n",
        "    pedot_data['Average conductivity (S/cm)'], bins='fd'\n",
        ")\n",
        "hist, bin_edges"
      ]
    },
    {
      "cell_type": "code",
      "execution_count": 49,
      "id": "a52e064b",
      "metadata": {
        "id": "a52e064b"
      },
      "outputs": [],
      "source": [
        "def map_float_to_class(number):\n",
        "    if bin_edges[0] <= number < bin_edges[1]:\n",
        "        return 0\n",
        "    elif bin_edges[1] <= number < bin_edges[2]:\n",
        "        return 1\n",
        "    elif bin_edges[2] <= number < bin_edges[3]:\n",
        "        return 2\n",
        "    elif bin_edges[3] <= number <= bin_edges[4]:\n",
        "        return 3\n",
        "    else:\n",
        "        return 2"
      ]
    },
    {
      "cell_type": "code",
      "execution_count": 50,
      "id": "8fa37daa",
      "metadata": {
        "colab": {
          "base_uri": "https://localhost:8080/"
        },
        "id": "8fa37daa",
        "outputId": "f75a94e1-09e8-4bba-9190-951c2014687e"
      },
      "outputs": [
        {
          "name": "stdout",
          "output_type": "stream",
          "text": [
            "LR - Test Set R-squared: 0.5660458358011451\n",
            "KNN - Test Set R-squared: 0.6417215059302974\n",
            "SVR - Test Set R-squared: 0.7722547832983354\n",
            "Random Forest - Test Set R-squared: 0.7572184938678966\n"
          ]
        }
      ],
      "source": [
        "# Model comparisons for conductivity prediction\n",
        "models = []\n",
        "models.append(('LR', LinearRegression()))\n",
        "models.append(('KNN', KNeighborsRegressor(n_neighbors=8)))\n",
        "models.append(('SVR', SVR(kernel=\"rbf\", C=300, gamma=\"auto\", epsilon=0.8)))\n",
        "models.append(\n",
        "    (\n",
        "        'Random Forest',\n",
        "        RandomForestRegressor(n_estimators=60, max_depth=10, random_state=1),\n",
        "    )\n",
        ")\n",
        "\n",
        "X, y = (\n",
        "    experimenal_space_scaled.iloc[:, :],\n",
        "    pedot_data[['Average conductivity (S/cm)']],\n",
        ")\n",
        "X_train, X_test, y_train_cond, y_test_cond = train_test_split(\n",
        "    X,\n",
        "    y,\n",
        "    test_size=0.25,\n",
        "    random_state=1,\n",
        "    stratify=[\n",
        "        map_float_to_class(y) for y in pedot_data['Average conductivity (S/cm)']\n",
        "    ],\n",
        ")\n",
        "results = []\n",
        "names = []\n",
        "for name, model in models:\n",
        "    pipeline = Pipeline([('scaler', scaler), ('model', model)])\n",
        "    pipeline.fit(X_train, y_train_cond.values.ravel())\n",
        "    y_pred = pipeline.predict(X_test)\n",
        "    score = r2_score(y_test_cond, y_pred)\n",
        "    print(f\"{name} - Test Set R-squared: {score}\")"
      ]
    },
    {
      "cell_type": "code",
      "execution_count": 51,
      "id": "1af4982c",
      "metadata": {
        "colab": {
          "base_uri": "https://localhost:8080/"
        },
        "id": "1af4982c",
        "outputId": "5defd61a-c091-460e-c701-00c5d32b1098"
      },
      "outputs": [
        {
          "name": "stdout",
          "output_type": "stream",
          "text": [
            "R2 score: 0.9054281373010573\n",
            "R2 score: 0.75\n"
          ]
        },
        {
          "name": "stderr",
          "output_type": "stream",
          "text": [
            "<ipython-input-51-06f33a5dce10>:2: DataConversionWarning:\n",
            "\n",
            "A column-vector y was passed when a 1d array was expected. Please change the shape of y to (n_samples,), for example using ravel().\n",
            "\n"
          ]
        }
      ],
      "source": [
        "reg = RandomForestRegressor(n_estimators=60, max_depth=10, random_state=1)\n",
        "reg.fit(X_train, y_train_cond)\n",
        "y_pred_train_cond = reg.predict(X_train)\n",
        "y_pred_cond = reg.predict(X_test)\n",
        "print('R2 score:', r2_score(y_train_cond, y_pred_train_cond))\n",
        "\n",
        "print('R2 score: {:.2f}'.format(r2_score(y_test_cond, y_pred_cond)))"
      ]
    },
    {
      "cell_type": "code",
      "execution_count": 52,
      "id": "e1c825f8",
      "metadata": {
        "id": "e1c825f8"
      },
      "outputs": [],
      "source": [
        "explainer = shap.KernelExplainer(\n",
        "    model=reg.predict, data=X\n",
        ")  # , link = \"identity\")\n",
        "# shap_values = explainer(X.values)"
      ]
    },
    {
      "cell_type": "code",
      "execution_count": 53,
      "id": "c1bcaf86",
      "metadata": {
        "colab": {
          "base_uri": "https://localhost:8080/",
          "height": 469,
          "referenced_widgets": [
            "0548e342444049719311d708c1a1410c",
            "b04cee9a607545d889846253504508e6",
            "449cd91f2b1f42af8033f4d3ed9c6774",
            "e0de779c11a04d2d84896bae559c8717",
            "7c51f0140c024a7f9adc7ed91e3bea34",
            "b6c73ee4e8b745619d40799c21314826",
            "6af3625138d246c5b82b9fd02fedb46f",
            "0e6bb28665fd42f49ba2b0403a4eb4fd",
            "3895d09bae58451f93c670847b1c53a5",
            "e085ff666b784e53a993f8bac39522ac",
            "5e054b17382d4a22b1849444f68f7541"
          ]
        },
        "id": "c1bcaf86",
        "outputId": "13a45e43-85b2-47df-d782-c8941b3ab4b9"
      },
      "outputs": [
        {
          "data": {
            "application/vnd.jupyter.widget-view+json": {
              "model_id": "0548e342444049719311d708c1a1410c",
              "version_major": 2,
              "version_minor": 0
            },
            "text/plain": [
              "  0%|          | 0/75 [00:00<?, ?it/s]"
            ]
          },
          "metadata": {},
          "output_type": "display_data"
        },
        {
          "data": {
            "image/png": "[encoded data removed]",
            "text/plain": [
              "<Figure size 800x430 with 2 Axes>"
            ]
          },
          "metadata": {},
          "output_type": "display_data"
        }
      ],
      "source": [
        "explainer = shap.KernelExplainer(\n",
        "    model=reg.predict, data=X\n",
        ")  # , link = \"identity\")\n",
        "shap_values = explainer.shap_values(X)\n",
        "shap.summary_plot(\n",
        "    shap_values=shap_values, features=X, cmap='viridis'\n",
        ")  # , feature_names= ['DMSO v%', 'EG v%', 'Coating velocity', 'Coating temperature', 'Post-processing solution','Post-processing coating speed', 'Post-processing coating temperature'], #\n",
        "#   )"
      ]
    },
    {
      "cell_type": "code",
      "execution_count": 55,
      "id": "3167e806",
      "metadata": {
        "colab": {
          "base_uri": "https://localhost:8080/"
        },
        "id": "3167e806",
        "outputId": "6782d0b8-b888-4ad6-a064-631bb9806cb2"
      },
      "outputs": [
        {
          "name": "stdout",
          "output_type": "stream",
          "text": [
            "LR - Test Set R-squared: 0.5692748166486626\n",
            "KNN - Test Set R-squared: 0.7472630993673115\n",
            "SVR - Test Set R-squared: 0.7586132616649932\n",
            "Random Forest - Test Set R-squared: 0.7768218029213316\n"
          ]
        }
      ],
      "source": [
        "# Model comparisons for coverage prediction\n",
        "\n",
        "models = []\n",
        "models.append(('LR', LinearRegression()))\n",
        "models.append(('KNN', KNeighborsRegressor(n_neighbors=10)))\n",
        "models.append(('SVR', SVR(kernel=\"rbf\", C=300, gamma=\"auto\", epsilon=0.8)))\n",
        "models.append(\n",
        "    (\n",
        "        'Random Forest',\n",
        "        RandomForestRegressor(n_estimators=60, max_depth=10, random_state=1),\n",
        "    )\n",
        ")\n",
        "\n",
        "X, y = (\n",
        "    experimenal_space_scaled.iloc[:, :-3],\n",
        "    pedot_data[['Average coverage (%)']],\n",
        ")\n",
        "X_train, X_test, y_train, y_test = train_test_split(\n",
        "    X,\n",
        "    y,\n",
        "    test_size=0.2,\n",
        "    random_state=0,\n",
        "    stratify=[\n",
        "        map_float_to_class(y) for y in pedot_data['Average conductivity (S/cm)']\n",
        "    ],\n",
        ")\n",
        "# Evaluate each model in turn using LOCO\n",
        "results = []\n",
        "names = []\n",
        "# Make predictions on the test dataset\n",
        "for name, model in models:\n",
        "    pipeline = Pipeline([('scaler', scaler), ('model', model)])\n",
        "    pipeline.fit(X_train, y_train.values.ravel())\n",
        "    y_pred = pipeline.predict(X_test)\n",
        "    score = r2_score(y_test, y_pred)\n",
        "    print(f\"{name} - Test Set R-squared: {score}\")"
      ]
    },
    {
      "cell_type": "code",
      "execution_count": 56,
      "id": "d2a57c16",
      "metadata": {
        "colab": {
          "base_uri": "https://localhost:8080/"
        },
        "id": "d2a57c16",
        "outputId": "5ee7ad00-e98c-4d38-e1aa-b9b133eadcf9"
      },
      "outputs": [
        {
          "name": "stdout",
          "output_type": "stream",
          "text": [
            "R2 score: 0.90\n",
            "R2 score: 0.80\n"
          ]
        },
        {
          "name": "stderr",
          "output_type": "stream",
          "text": [
            "<ipython-input-56-31ac97d55d2a>:2: DataConversionWarning:\n",
            "\n",
            "A column-vector y was passed when a 1d array was expected. Please change the shape of y to (n_samples,), for example using ravel().\n",
            "\n"
          ]
        }
      ],
      "source": [
        "reg = RandomForestRegressor(n_estimators=60, max_depth=10, random_state=1)\n",
        "reg.fit(X_train, y_train)\n",
        "y_pred_train = reg.predict(X_train)\n",
        "y_pred = reg.predict(X_test)\n",
        "print('R2 score: {:.2f}'.format(r2_score(y_train, y_pred_train)))\n",
        "print('R2 score: {:.2f}'.format(r2_score(y_test, y_pred)))"
      ]
    },
    {
      "cell_type": "code",
      "execution_count": null,
      "id": "eb2e4fbd",
      "metadata": {
        "colab": {
          "base_uri": "https://localhost:8080/"
        },
        "id": "eb2e4fbd",
        "lines_to_next_cell": 2,
        "outputId": "c006bf73-bedb-40b0-b9bf-f474c404efc7"
      },
      "outputs": [
        {
          "name": "stderr",
          "output_type": "stream",
          "text": [
            "<ipython-input-58-1dc340909d17>:1: DeprecationWarning:\n",
            "\n",
            "`ensemble_size` has been deprecated, please use `ensemble_kwargs = {'ensemble_size': 10}`. Inserting `ensemble_size` into `ensemble_kwargs` for now. `ensemble_size` will be removed in auto-sklearn 0.16.\n",
            "\n"
          ]
        }
      ],
      "source": [
        "automl = autosklearn.regression.AutoSklearnRegressor(\n",
        "    time_left_for_this_task=3600,\n",
        "    n_jobs=-1,\n",
        "    per_run_time_limit=1000,\n",
        "    seed=1,\n",
        "    ensemble_size=10,\n",
        "    tmp_folder=\"content/\",\n",
        "    resampling_strategy=\"cv\",\n",
        "    resampling_strategy_arguments={\n",
        "        'folds': 5,\n",
        "        \"shuffle\": True,\n",
        "        \"stratify\": [\n",
        "            map_float_to_class(y)\n",
        "            for y in pedot_data['Average conductivity (S/cm)']\n",
        "        ],\n",
        "    },\n",
        "    memory_limit=None,  #\n",
        ")\n",
        "\n",
        "automl.fit(X_train, y_train, dataset_name=\"pedot\")"
      ]
    },
    {
      "cell_type": "code",
      "execution_count": null,
      "id": "1af85208",
      "metadata": {
        "id": "1af85208"
      },
      "outputs": [],
      "source": [
        "train_predictions = automl.predict(X_train)\n",
        "print(\"Train R2 score:\", sklearn.metrics.r2_score(y_train, train_predictions))\n",
        "test_predictions = automl.predict(X_test)\n",
        "print(\"Test R2 score:\", sklearn.metrics.r2_score(y_test, test_predictions))"
      ]
    },
    {
      "cell_type": "code",
      "execution_count": null,
      "id": "d1ddde3c",
      "metadata": {
        "id": "d1ddde3c"
      },
      "outputs": [],
      "source": [
        "# Construct histograms showing the scores distribution of the labeled/unlabeled data for each algorithm used\n",
        "\n",
        "plt.rcParams[\"font.weight\"] = \"normal\"\n",
        "plt.rcParams[\"axes.labelweight\"] = \"normal\"\n",
        "fig, axes = plt.subplots(\n",
        "    figsize=(12, 6),\n",
        "    nrows=1,\n",
        "    ncols=2,\n",
        "    constrained_layout=True,\n",
        "    gridspec_kw={'wspace': 0.25, 'hspace': 0.25},\n",
        ")\n",
        "\n",
        "ax0, ax1 = axes.flatten()\n",
        "\n",
        "# Polymer Chemistry, 11, 2173 – 2181, 2020 journal\n",
        "\n",
        "slope, intercept, r_value, p_value, std_err = stats.linregress(\n",
        "    y_test.values.ravel(), y_pred.ravel()\n",
        ")\n",
        "print(r_value)\n",
        "ax0.scatter(\n",
        "    y_train.values,\n",
        "    y_pred_train,\n",
        "    color='#3e82fc',\n",
        "    s=100,\n",
        "    edgecolor='black',\n",
        "    label='train data',\n",
        ")\n",
        "\n",
        "ax0.scatter(\n",
        "    y_test.values,\n",
        "    y_pred,\n",
        "    color=\"magenta\",\n",
        "    s=100,\n",
        "    edgecolor='black',\n",
        "    marker='^',\n",
        "    label='test data',\n",
        ")  # 'r = {:.2f}'.format(r_value))\n",
        "\n",
        "# line = slope*np.array(y_true[:,0])+intercept\n",
        "# ax0.plot(y_true[:,0], line, '-', linewidth=2.0, alpha=0.6,color='cyan', label='y={:.2f}x+{:.2f}'.format(slope,intercept))\n",
        "\n",
        "\n",
        "lims = [\n",
        "    np.min([ax0.get_xlim(), ax0.get_ylim()]),  # min of both axes\n",
        "    np.max([ax0.get_xlim(), ax0.get_ylim()]),  # max of both axes\n",
        "]\n",
        "\n",
        "# now plot both limits against eachother\n",
        "ax0.plot(lims, lims, 'k-', alpha=0.75, zorder=0, label=' y=x')\n",
        "# ax0.set_aspect('equal')\n",
        "ax0.set_xlim(lims)\n",
        "ax0.set_ylim(lims)\n",
        "ax0.spines['bottom'].set_color('black')\n",
        "ax0.spines['top'].set_color('black')\n",
        "ax0.spines['right'].set_color('black')\n",
        "ax0.spines['left'].set_color('black')\n",
        "ax0.tick_params(axis='both', which='both', width=2)\n",
        "ax0.tick_params(axis='x', colors='black')\n",
        "ax0.tick_params(axis='both', which='major', length=14)\n",
        "ax0.tick_params(axis='both', which='minor', length=8, color='black')\n",
        "ax0.tick_params(\n",
        "    axis='both',\n",
        "    which='both',\n",
        "    bottom=True,\n",
        "    top=True,\n",
        "    left=True,\n",
        "    right=True,\n",
        "    direction='in',\n",
        ")\n",
        "ax0.set_xlabel('coverage actual', fontsize=16)\n",
        "ax0.set_ylabel('coverage predicted', fontsize=16)\n",
        "ax0.legend(prop={'size': 16})\n",
        "\n",
        "\n",
        "slope, intercept, r_value, p_value, std_err = stats.linregress(\n",
        "    y_test_cond.values.ravel(), y_pred_cond.ravel()\n",
        ")\n",
        "print(r_value)\n",
        "ax1.scatter(\n",
        "    y_train_cond.values,\n",
        "    y_pred_train_cond,\n",
        "    color=\"#3e82fc\",\n",
        "    s=100,\n",
        "    edgecolor='black',\n",
        "    label='train data',\n",
        ")\n",
        "ax1.scatter(\n",
        "    y_test_cond.values,\n",
        "    y_pred_cond,\n",
        "    color=\"magenta\",\n",
        "    s=100,\n",
        "    edgecolor='black',\n",
        "    marker='^',\n",
        "    label='test data',\n",
        ")  # 'r = {:.2f}'.format(r_value)\n",
        "line = slope * np.array(y_test.values) + intercept\n",
        "# ax1.plot(y_true[:,1], line, '-', linewidth=2.0, alpha=0.6, color='magenta' ,label='y={:.2f}x+{:.2f}'.format(slope,intercept))\n",
        "lims = [\n",
        "    np.min([ax1.get_xlim(), ax1.get_ylim()]),  # min of both axes\n",
        "    np.max([ax1.get_xlim(), ax1.get_ylim()]),  # max of both axes\n",
        "]\n",
        "\n",
        "# now plot both limits against eachother\n",
        "ax1.plot(lims, lims, 'k-', alpha=0.75, zorder=0, label=' y=x')\n",
        "ax1.spines['bottom'].set_color('black')\n",
        "ax1.spines['top'].set_color('black')\n",
        "ax1.spines['right'].set_color('black')\n",
        "ax1.spines['left'].set_color('black')\n",
        "ax1.tick_params(axis='both', which='both', width=2)\n",
        "ax1.tick_params(axis='x', colors='black')\n",
        "ax1.tick_params(axis='both', which='major', length=14)\n",
        "ax1.tick_params(axis='both', which='minor', length=8, color='black')\n",
        "ax1.tick_params(\n",
        "    axis='both',\n",
        "    which='both',\n",
        "    bottom=True,\n",
        "    top=True,\n",
        "    left=True,\n",
        "    right=True,\n",
        "    direction='in',\n",
        ")\n",
        "ax1.set_xlabel('conductivity actual', fontsize=16)\n",
        "ax1.set_ylabel('conductivity predicted', fontsize=16)\n",
        "ax1.legend(prop={'size': 16})\n",
        "\n",
        "# plt.savefig(\n",
        "#     '/content/parity_plots.svg'\n",
        "# )"
      ]
    },
    {
      "cell_type": "code",
      "execution_count": null,
      "id": "afc381ba",
      "metadata": {
        "id": "afc381ba",
        "lines_to_next_cell": 2
      },
      "outputs": [],
      "source": [
        "# explainer = shap.KernelExplainer(model = reg.predict, data = X)#, link = \"identity\")\n",
        "# shap_values = explainer.shap_values(X)\n",
        "shap.summary_plot(\n",
        "    shap_values=shap_values,\n",
        "    features=X,\n",
        "    cmap='viridis',\n",
        "    feature_names=[\n",
        "        'DMSO v%',\n",
        "        'EG v%',\n",
        "        'Coating velocity',\n",
        "        'Coating temperature',\n",
        "        'Post-processing solvents',\n",
        "        'Post-processing\\n coating speed',\n",
        "        'Post-processing\\n coating temperature',\n",
        "    ],\n",
        "    show=False,\n",
        ")\n",
        "# plt.savefig(\"conduct.svg\")"
      ]
    }
  ],
  "metadata": {
    "colab": {
      "provenance": []
    },
    "jupytext": {
      "main_language": "python"
    },
    "kernelspec": {
      "display_name": "Python 3",
      "name": "python3"
    },
    "language_info": {
      "codemirror_mode": {
        "name": "ipython",
        "version": 3
      },
      "file_extension": ".py",
      "mimetype": "text/x-python",
      "name": "python",
      "nbconvert_exporter": "python",
      "pygments_lexer": "ipython3",
      "version": "3.8.18"
    },
    "widgets": {
      "application/vnd.jupyter.widget-state+json": {
        "0548e342444049719311d708c1a1410c": {
          "model_module": "@jupyter-widgets/controls",
          "model_module_version": "1.5.0",
          "model_name": "HBoxModel",
          "state": {
            "_dom_classes": [],
            "_model_module": "@jupyter-widgets/controls",
            "_model_module_version": "1.5.0",
            "_model_name": "HBoxModel",
            "_view_count": null,
            "_view_module": "@jupyter-widgets/controls",
            "_view_module_version": "1.5.0",
            "_view_name": "HBoxView",
            "box_style": "",
            "children": [
              "IPY_MODEL_b04cee9a607545d889846253504508e6",
              "IPY_MODEL_449cd91f2b1f42af8033f4d3ed9c6774",
              "IPY_MODEL_e0de779c11a04d2d84896bae559c8717"
            ],
            "layout": "IPY_MODEL_7c51f0140c024a7f9adc7ed91e3bea34"
          }
        },
        "0b3eb99a7cd4455d973c85bd86f9ea6e": {
          "model_module": "@jupyter-widgets/base",
          "model_module_version": "1.2.0",
          "model_name": "LayoutModel",
          "state": {
            "_model_module": "@jupyter-widgets/base",
            "_model_module_version": "1.2.0",
            "_model_name": "LayoutModel",
            "_view_count": null,
            "_view_module": "@jupyter-widgets/base",
            "_view_module_version": "1.2.0",
            "_view_name": "LayoutView",
            "align_content": null,
            "align_items": null,
            "align_self": null,
            "border": null,
            "bottom": null,
            "display": null,
            "flex": null,
            "flex_flow": null,
            "grid_area": null,
            "grid_auto_columns": null,
            "grid_auto_flow": null,
            "grid_auto_rows": null,
            "grid_column": null,
            "grid_gap": null,
            "grid_row": null,
            "grid_template_areas": null,
            "grid_template_columns": null,
            "grid_template_rows": null,
            "height": null,
            "justify_content": null,
            "justify_items": null,
            "left": null,
            "margin": null,
            "max_height": null,
            "max_width": null,
            "min_height": null,
            "min_width": null,
            "object_fit": null,
            "object_position": null,
            "order": null,
            "overflow": null,
            "overflow_x": null,
            "overflow_y": null,
            "padding": null,
            "right": null,
            "top": null,
            "visibility": null,
            "width": null
          }
        },
        "0e6bb28665fd42f49ba2b0403a4eb4fd": {
          "model_module": "@jupyter-widgets/base",
          "model_module_version": "1.2.0",
          "model_name": "LayoutModel",
          "state": {
            "_model_module": "@jupyter-widgets/base",
            "_model_module_version": "1.2.0",
            "_model_name": "LayoutModel",
            "_view_count": null,
            "_view_module": "@jupyter-widgets/base",
            "_view_module_version": "1.2.0",
            "_view_name": "LayoutView",
            "align_content": null,
            "align_items": null,
            "align_self": null,
            "border": null,
            "bottom": null,
            "display": null,
            "flex": null,
            "flex_flow": null,
            "grid_area": null,
            "grid_auto_columns": null,
            "grid_auto_flow": null,
            "grid_auto_rows": null,
            "grid_column": null,
            "grid_gap": null,
            "grid_row": null,
            "grid_template_areas": null,
            "grid_template_columns": null,
            "grid_template_rows": null,
            "height": null,
            "justify_content": null,
            "justify_items": null,
            "left": null,
            "margin": null,
            "max_height": null,
            "max_width": null,
            "min_height": null,
            "min_width": null,
            "object_fit": null,
            "object_position": null,
            "order": null,
            "overflow": null,
            "overflow_x": null,
            "overflow_y": null,
            "padding": null,
            "right": null,
            "top": null,
            "visibility": null,
            "width": null
          }
        },
        "19f2bf0bac4f466584aed8bd9edaea96": {
          "model_module": "@jupyter-widgets/controls",
          "model_module_version": "1.5.0",
          "model_name": "DescriptionStyleModel",
          "state": {
            "_model_module": "@jupyter-widgets/controls",
            "_model_module_version": "1.5.0",
            "_model_name": "DescriptionStyleModel",
            "_view_count": null,
            "_view_module": "@jupyter-widgets/base",
            "_view_module_version": "1.2.0",
            "_view_name": "StyleView",
            "description_width": ""
          }
        },
        "2876dd863170414faa6f41fbf3bea723": {
          "model_module": "@jupyter-widgets/controls",
          "model_module_version": "1.5.0",
          "model_name": "ProgressStyleModel",
          "state": {
            "_model_module": "@jupyter-widgets/controls",
            "_model_module_version": "1.5.0",
            "_model_name": "ProgressStyleModel",
            "_view_count": null,
            "_view_module": "@jupyter-widgets/base",
            "_view_module_version": "1.2.0",
            "_view_name": "StyleView",
            "bar_color": null,
            "description_width": ""
          }
        },
        "3895d09bae58451f93c670847b1c53a5": {
          "model_module": "@jupyter-widgets/controls",
          "model_module_version": "1.5.0",
          "model_name": "ProgressStyleModel",
          "state": {
            "_model_module": "@jupyter-widgets/controls",
            "_model_module_version": "1.5.0",
            "_model_name": "ProgressStyleModel",
            "_view_count": null,
            "_view_module": "@jupyter-widgets/base",
            "_view_module_version": "1.2.0",
            "_view_name": "StyleView",
            "bar_color": null,
            "description_width": ""
          }
        },
        "449cd91f2b1f42af8033f4d3ed9c6774": {
          "model_module": "@jupyter-widgets/controls",
          "model_module_version": "1.5.0",
          "model_name": "FloatProgressModel",
          "state": {
            "_dom_classes": [],
            "_model_module": "@jupyter-widgets/controls",
            "_model_module_version": "1.5.0",
            "_model_name": "FloatProgressModel",
            "_view_count": null,
            "_view_module": "@jupyter-widgets/controls",
            "_view_module_version": "1.5.0",
            "_view_name": "ProgressView",
            "bar_style": "success",
            "description": "",
            "description_tooltip": null,
            "layout": "IPY_MODEL_0e6bb28665fd42f49ba2b0403a4eb4fd",
            "max": 75,
            "min": 0,
            "orientation": "horizontal",
            "style": "IPY_MODEL_3895d09bae58451f93c670847b1c53a5",
            "value": 75
          }
        },
        "45700259f523441daa34336827d2b254": {
          "model_module": "@jupyter-widgets/base",
          "model_module_version": "1.2.0",
          "model_name": "LayoutModel",
          "state": {
            "_model_module": "@jupyter-widgets/base",
            "_model_module_version": "1.2.0",
            "_model_name": "LayoutModel",
            "_view_count": null,
            "_view_module": "@jupyter-widgets/base",
            "_view_module_version": "1.2.0",
            "_view_name": "LayoutView",
            "align_content": null,
            "align_items": null,
            "align_self": null,
            "border": null,
            "bottom": null,
            "display": null,
            "flex": null,
            "flex_flow": null,
            "grid_area": null,
            "grid_auto_columns": null,
            "grid_auto_flow": null,
            "grid_auto_rows": null,
            "grid_column": null,
            "grid_gap": null,
            "grid_row": null,
            "grid_template_areas": null,
            "grid_template_columns": null,
            "grid_template_rows": null,
            "height": null,
            "justify_content": null,
            "justify_items": null,
            "left": null,
            "margin": null,
            "max_height": null,
            "max_width": null,
            "min_height": null,
            "min_width": null,
            "object_fit": null,
            "object_position": null,
            "order": null,
            "overflow": null,
            "overflow_x": null,
            "overflow_y": null,
            "padding": null,
            "right": null,
            "top": null,
            "visibility": null,
            "width": null
          }
        },
        "4ccf3aa737064e4b9cd7b4bd99c1c5b7": {
          "model_module": "@jupyter-widgets/controls",
          "model_module_version": "1.5.0",
          "model_name": "HTMLModel",
          "state": {
            "_dom_classes": [],
            "_model_module": "@jupyter-widgets/controls",
            "_model_module_version": "1.5.0",
            "_model_name": "HTMLModel",
            "_view_count": null,
            "_view_module": "@jupyter-widgets/controls",
            "_view_module_version": "1.5.0",
            "_view_name": "HTMLView",
            "description": "",
            "description_tooltip": null,
            "layout": "IPY_MODEL_adbbbe776ee54273a3ba1de04fe71e04",
            "placeholder": "​",
            "style": "IPY_MODEL_5d5da7315888497b95de31521baa487f",
            "value": "100%"
          }
        },
        "540f7747cd664e9186c134c1728bd314": {
          "model_module": "@jupyter-widgets/controls",
          "model_module_version": "1.5.0",
          "model_name": "FloatProgressModel",
          "state": {
            "_dom_classes": [],
            "_model_module": "@jupyter-widgets/controls",
            "_model_module_version": "1.5.0",
            "_model_name": "FloatProgressModel",
            "_view_count": null,
            "_view_module": "@jupyter-widgets/controls",
            "_view_module_version": "1.5.0",
            "_view_name": "ProgressView",
            "bar_style": "success",
            "description": "",
            "description_tooltip": null,
            "layout": "IPY_MODEL_45700259f523441daa34336827d2b254",
            "max": 30,
            "min": 0,
            "orientation": "horizontal",
            "style": "IPY_MODEL_2876dd863170414faa6f41fbf3bea723",
            "value": 30
          }
        },
        "5d5da7315888497b95de31521baa487f": {
          "model_module": "@jupyter-widgets/controls",
          "model_module_version": "1.5.0",
          "model_name": "DescriptionStyleModel",
          "state": {
            "_model_module": "@jupyter-widgets/controls",
            "_model_module_version": "1.5.0",
            "_model_name": "DescriptionStyleModel",
            "_view_count": null,
            "_view_module": "@jupyter-widgets/base",
            "_view_module_version": "1.2.0",
            "_view_name": "StyleView",
            "description_width": ""
          }
        },
        "5e054b17382d4a22b1849444f68f7541": {
          "model_module": "@jupyter-widgets/controls",
          "model_module_version": "1.5.0",
          "model_name": "DescriptionStyleModel",
          "state": {
            "_model_module": "@jupyter-widgets/controls",
            "_model_module_version": "1.5.0",
            "_model_name": "DescriptionStyleModel",
            "_view_count": null,
            "_view_module": "@jupyter-widgets/base",
            "_view_module_version": "1.2.0",
            "_view_name": "StyleView",
            "description_width": ""
          }
        },
        "6af3625138d246c5b82b9fd02fedb46f": {
          "model_module": "@jupyter-widgets/controls",
          "model_module_version": "1.5.0",
          "model_name": "DescriptionStyleModel",
          "state": {
            "_model_module": "@jupyter-widgets/controls",
            "_model_module_version": "1.5.0",
            "_model_name": "DescriptionStyleModel",
            "_view_count": null,
            "_view_module": "@jupyter-widgets/base",
            "_view_module_version": "1.2.0",
            "_view_name": "StyleView",
            "description_width": ""
          }
        },
        "7c51f0140c024a7f9adc7ed91e3bea34": {
          "model_module": "@jupyter-widgets/base",
          "model_module_version": "1.2.0",
          "model_name": "LayoutModel",
          "state": {
            "_model_module": "@jupyter-widgets/base",
            "_model_module_version": "1.2.0",
            "_model_name": "LayoutModel",
            "_view_count": null,
            "_view_module": "@jupyter-widgets/base",
            "_view_module_version": "1.2.0",
            "_view_name": "LayoutView",
            "align_content": null,
            "align_items": null,
            "align_self": null,
            "border": null,
            "bottom": null,
            "display": null,
            "flex": null,
            "flex_flow": null,
            "grid_area": null,
            "grid_auto_columns": null,
            "grid_auto_flow": null,
            "grid_auto_rows": null,
            "grid_column": null,
            "grid_gap": null,
            "grid_row": null,
            "grid_template_areas": null,
            "grid_template_columns": null,
            "grid_template_rows": null,
            "height": null,
            "justify_content": null,
            "justify_items": null,
            "left": null,
            "margin": null,
            "max_height": null,
            "max_width": null,
            "min_height": null,
            "min_width": null,
            "object_fit": null,
            "object_position": null,
            "order": null,
            "overflow": null,
            "overflow_x": null,
            "overflow_y": null,
            "padding": null,
            "right": null,
            "top": null,
            "visibility": null,
            "width": null
          }
        },
        "7d6e22bb28dd4c6bbb3f65f666569226": {
          "model_module": "@jupyter-widgets/base",
          "model_module_version": "1.2.0",
          "model_name": "LayoutModel",
          "state": {
            "_model_module": "@jupyter-widgets/base",
            "_model_module_version": "1.2.0",
            "_model_name": "LayoutModel",
            "_view_count": null,
            "_view_module": "@jupyter-widgets/base",
            "_view_module_version": "1.2.0",
            "_view_name": "LayoutView",
            "align_content": null,
            "align_items": null,
            "align_self": null,
            "border": null,
            "bottom": null,
            "display": null,
            "flex": null,
            "flex_flow": null,
            "grid_area": null,
            "grid_auto_columns": null,
            "grid_auto_flow": null,
            "grid_auto_rows": null,
            "grid_column": null,
            "grid_gap": null,
            "grid_row": null,
            "grid_template_areas": null,
            "grid_template_columns": null,
            "grid_template_rows": null,
            "height": null,
            "justify_content": null,
            "justify_items": null,
            "left": null,
            "margin": null,
            "max_height": null,
            "max_width": null,
            "min_height": null,
            "min_width": null,
            "object_fit": null,
            "object_position": null,
            "order": null,
            "overflow": null,
            "overflow_x": null,
            "overflow_y": null,
            "padding": null,
            "right": null,
            "top": null,
            "visibility": null,
            "width": null
          }
        },
        "adbbbe776ee54273a3ba1de04fe71e04": {
          "model_module": "@jupyter-widgets/base",
          "model_module_version": "1.2.0",
          "model_name": "LayoutModel",
          "state": {
            "_model_module": "@jupyter-widgets/base",
            "_model_module_version": "1.2.0",
            "_model_name": "LayoutModel",
            "_view_count": null,
            "_view_module": "@jupyter-widgets/base",
            "_view_module_version": "1.2.0",
            "_view_name": "LayoutView",
            "align_content": null,
            "align_items": null,
            "align_self": null,
            "border": null,
            "bottom": null,
            "display": null,
            "flex": null,
            "flex_flow": null,
            "grid_area": null,
            "grid_auto_columns": null,
            "grid_auto_flow": null,
            "grid_auto_rows": null,
            "grid_column": null,
            "grid_gap": null,
            "grid_row": null,
            "grid_template_areas": null,
            "grid_template_columns": null,
            "grid_template_rows": null,
            "height": null,
            "justify_content": null,
            "justify_items": null,
            "left": null,
            "margin": null,
            "max_height": null,
            "max_width": null,
            "min_height": null,
            "min_width": null,
            "object_fit": null,
            "object_position": null,
            "order": null,
            "overflow": null,
            "overflow_x": null,
            "overflow_y": null,
            "padding": null,
            "right": null,
            "top": null,
            "visibility": null,
            "width": null
          }
        },
        "b04cee9a607545d889846253504508e6": {
          "model_module": "@jupyter-widgets/controls",
          "model_module_version": "1.5.0",
          "model_name": "HTMLModel",
          "state": {
            "_dom_classes": [],
            "_model_module": "@jupyter-widgets/controls",
            "_model_module_version": "1.5.0",
            "_model_name": "HTMLModel",
            "_view_count": null,
            "_view_module": "@jupyter-widgets/controls",
            "_view_module_version": "1.5.0",
            "_view_name": "HTMLView",
            "description": "",
            "description_tooltip": null,
            "layout": "IPY_MODEL_b6c73ee4e8b745619d40799c21314826",
            "placeholder": "​",
            "style": "IPY_MODEL_6af3625138d246c5b82b9fd02fedb46f",
            "value": "100%"
          }
        },
        "b6c73ee4e8b745619d40799c21314826": {
          "model_module": "@jupyter-widgets/base",
          "model_module_version": "1.2.0",
          "model_name": "LayoutModel",
          "state": {
            "_model_module": "@jupyter-widgets/base",
            "_model_module_version": "1.2.0",
            "_model_name": "LayoutModel",
            "_view_count": null,
            "_view_module": "@jupyter-widgets/base",
            "_view_module_version": "1.2.0",
            "_view_name": "LayoutView",
            "align_content": null,
            "align_items": null,
            "align_self": null,
            "border": null,
            "bottom": null,
            "display": null,
            "flex": null,
            "flex_flow": null,
            "grid_area": null,
            "grid_auto_columns": null,
            "grid_auto_flow": null,
            "grid_auto_rows": null,
            "grid_column": null,
            "grid_gap": null,
            "grid_row": null,
            "grid_template_areas": null,
            "grid_template_columns": null,
            "grid_template_rows": null,
            "height": null,
            "justify_content": null,
            "justify_items": null,
            "left": null,
            "margin": null,
            "max_height": null,
            "max_width": null,
            "min_height": null,
            "min_width": null,
            "object_fit": null,
            "object_position": null,
            "order": null,
            "overflow": null,
            "overflow_x": null,
            "overflow_y": null,
            "padding": null,
            "right": null,
            "top": null,
            "visibility": null,
            "width": null
          }
        },
        "c314f044fb264327bf08dac815d0f026": {
          "model_module": "@jupyter-widgets/controls",
          "model_module_version": "1.5.0",
          "model_name": "HTMLModel",
          "state": {
            "_dom_classes": [],
            "_model_module": "@jupyter-widgets/controls",
            "_model_module_version": "1.5.0",
            "_model_name": "HTMLModel",
            "_view_count": null,
            "_view_module": "@jupyter-widgets/controls",
            "_view_module_version": "1.5.0",
            "_view_name": "HTMLView",
            "description": "",
            "description_tooltip": null,
            "layout": "IPY_MODEL_7d6e22bb28dd4c6bbb3f65f666569226",
            "placeholder": "​",
            "style": "IPY_MODEL_19f2bf0bac4f466584aed8bd9edaea96",
            "value": " 30/30 [00:00&lt;00:00, 65.68it/s]"
          }
        },
        "dcafedb311ca4f079daae100b974b1b3": {
          "model_module": "@jupyter-widgets/controls",
          "model_module_version": "1.5.0",
          "model_name": "HBoxModel",
          "state": {
            "_dom_classes": [],
            "_model_module": "@jupyter-widgets/controls",
            "_model_module_version": "1.5.0",
            "_model_name": "HBoxModel",
            "_view_count": null,
            "_view_module": "@jupyter-widgets/controls",
            "_view_module_version": "1.5.0",
            "_view_name": "HBoxView",
            "box_style": "",
            "children": [
              "IPY_MODEL_4ccf3aa737064e4b9cd7b4bd99c1c5b7",
              "IPY_MODEL_540f7747cd664e9186c134c1728bd314",
              "IPY_MODEL_c314f044fb264327bf08dac815d0f026"
            ],
            "layout": "IPY_MODEL_0b3eb99a7cd4455d973c85bd86f9ea6e"
          }
        },
        "e085ff666b784e53a993f8bac39522ac": {
          "model_module": "@jupyter-widgets/base",
          "model_module_version": "1.2.0",
          "model_name": "LayoutModel",
          "state": {
            "_model_module": "@jupyter-widgets/base",
            "_model_module_version": "1.2.0",
            "_model_name": "LayoutModel",
            "_view_count": null,
            "_view_module": "@jupyter-widgets/base",
            "_view_module_version": "1.2.0",
            "_view_name": "LayoutView",
            "align_content": null,
            "align_items": null,
            "align_self": null,
            "border": null,
            "bottom": null,
            "display": null,
            "flex": null,
            "flex_flow": null,
            "grid_area": null,
            "grid_auto_columns": null,
            "grid_auto_flow": null,
            "grid_auto_rows": null,
            "grid_column": null,
            "grid_gap": null,
            "grid_row": null,
            "grid_template_areas": null,
            "grid_template_columns": null,
            "grid_template_rows": null,
            "height": null,
            "justify_content": null,
            "justify_items": null,
            "left": null,
            "margin": null,
            "max_height": null,
            "max_width": null,
            "min_height": null,
            "min_width": null,
            "object_fit": null,
            "object_position": null,
            "order": null,
            "overflow": null,
            "overflow_x": null,
            "overflow_y": null,
            "padding": null,
            "right": null,
            "top": null,
            "visibility": null,
            "width": null
          }
        },
        "e0de779c11a04d2d84896bae559c8717": {
          "model_module": "@jupyter-widgets/controls",
          "model_module_version": "1.5.0",
          "model_name": "HTMLModel",
          "state": {
            "_dom_classes": [],
            "_model_module": "@jupyter-widgets/controls",
            "_model_module_version": "1.5.0",
            "_model_name": "HTMLModel",
            "_view_count": null,
            "_view_module": "@jupyter-widgets/controls",
            "_view_module_version": "1.5.0",
            "_view_name": "HTMLView",
            "description": "",
            "description_tooltip": null,
            "layout": "IPY_MODEL_e085ff666b784e53a993f8bac39522ac",
            "placeholder": "​",
            "style": "IPY_MODEL_5e054b17382d4a22b1849444f68f7541",
            "value": " 75/75 [00:04&lt;00:00, 12.58it/s]"
          }
        }
      }
    }
  },
  "nbformat": 4,
  "nbformat_minor": 5
}
